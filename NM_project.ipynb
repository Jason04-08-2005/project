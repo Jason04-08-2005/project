{
  "nbformat": 4,
  "nbformat_minor": 0,
  "metadata": {
    "colab": {
      "provenance": [],
      "authorship_tag": "ABX9TyP56qK7JYP0kLnRlQXKonyf",
      "include_colab_link": true
    },
    "kernelspec": {
      "name": "python3",
      "display_name": "Python 3"
    },
    "language_info": {
      "name": "python"
    }
  },
  "cells": [
    {
      "cell_type": "markdown",
      "metadata": {
        "id": "view-in-github",
        "colab_type": "text"
      },
      "source": [
        "<a href=\"https://colab.research.google.com/github/Jason04-08-2005/project/blob/main/NM_project.ipynb\" target=\"_parent\"><img src=\"https://colab.research.google.com/assets/colab-badge.svg\" alt=\"Open In Colab\"/></a>"
      ]
    },
    {
      "cell_type": "code",
      "execution_count": 4,
      "metadata": {
        "colab": {
          "base_uri": "https://localhost:8080/",
          "height": 211
        },
        "id": "D3ho0ksSAENF",
        "outputId": "417f6674-22aa-4abc-d591-f933ccc03441"
      },
      "outputs": [
        {
          "output_type": "error",
          "ename": "NameError",
          "evalue": "name 'st' is not defined",
          "traceback": [
            "\u001b[0;31m---------------------------------------------------------------------------\u001b[0m",
            "\u001b[0;31mNameError\u001b[0m                                 Traceback (most recent call last)",
            "\u001b[0;32m<ipython-input-4-63cad2945554>\u001b[0m in \u001b[0;36m<cell line: 0>\u001b[0;34m()\u001b[0m\n\u001b[1;32m      1\u001b[0m \u001b[0;31m# Title and introduction\u001b[0m\u001b[0;34m\u001b[0m\u001b[0;34m\u001b[0m\u001b[0m\n\u001b[0;32m----> 2\u001b[0;31m \u001b[0mst\u001b[0m\u001b[0;34m.\u001b[0m\u001b[0mtitle\u001b[0m\u001b[0;34m(\u001b[0m\u001b[0;34m\"Revolutionizing Customer Support with an Intelligent Chatbot\"\u001b[0m\u001b[0;34m)\u001b[0m\u001b[0;34m\u001b[0m\u001b[0;34m\u001b[0m\u001b[0m\n\u001b[0m\u001b[1;32m      3\u001b[0m st.write(\"\"\"\n\u001b[1;32m      4\u001b[0m \u001b[0mThis\u001b[0m \u001b[0mproject\u001b[0m \u001b[0maims\u001b[0m \u001b[0mto\u001b[0m \u001b[0mautomate\u001b[0m \u001b[0mcustomer\u001b[0m \u001b[0msupport\u001b[0m \u001b[0mservices\u001b[0m \u001b[0musing\u001b[0m \u001b[0ma\u001b[0m \u001b[0msmart\u001b[0m \u001b[0mchatbot\u001b[0m \u001b[0mthat\u001b[0m \u001b[0munderstands\u001b[0m \u001b[0;32mand\u001b[0m \u001b[0mresponds\u001b[0m \u001b[0mto\u001b[0m \u001b[0muser\u001b[0m \u001b[0mqueries\u001b[0m \u001b[0;32min\u001b[0m \u001b[0mreal\u001b[0m\u001b[0;34m-\u001b[0m\u001b[0mtime\u001b[0m\u001b[0;34m.\u001b[0m\u001b[0;34m\u001b[0m\u001b[0;34m\u001b[0m\u001b[0m\n\u001b[1;32m      5\u001b[0m \u001b[0mIt\u001b[0m \u001b[0mintegrates\u001b[0m \u001b[0mmachine\u001b[0m \u001b[0mlearning\u001b[0m \u001b[0;32mand\u001b[0m \u001b[0mnatural\u001b[0m \u001b[0mlanguage\u001b[0m \u001b[0mprocessing\u001b[0m \u001b[0mtechniques\u001b[0m \u001b[0mto\u001b[0m \u001b[0mimprove\u001b[0m \u001b[0mefficiency\u001b[0m \u001b[0;32mand\u001b[0m \u001b[0mcustomer\u001b[0m \u001b[0msatisfaction\u001b[0m\u001b[0;34m.\u001b[0m\u001b[0;34m\u001b[0m\u001b[0;34m\u001b[0m\u001b[0m\n",
            "\u001b[0;31mNameError\u001b[0m: name 'st' is not defined"
          ]
        }
      ],
      "source": [
        "import streamlit as st\n",
        "\n",
        "# Title and introduction\n",
        "st.title(\"Revolutionizing Customer Support with an Intelligent Chatbot\")\n",
        "st.write(\"\"\"\n",
        "This project aims to automate customer support services using a smart chatbot that understands and responds to user queries in real-time.\n",
        "It integrates machine learning and natural language processing techniques to improve efficiency and customer satisfaction.\n",
        "\"\"\")\n",
        "\n",
        "# Download link for the DOCX file\n",
        "with open(\"Intelligent_Chatbot_Customer_Support.docx\", \"rb\") as file:\n",
        "    st.download_button(\n",
        "        label=\"Download Project Report (DOCX)\",\n",
        "        data=file,\n",
        "        file_name=\"Intelligent_Chatbot_Customer_Support.docx\",\n",
        "        mime=\"application/vnd.openxmlformats-officedocument.wordprocessingml.document\"\n",
        "    )\n",
        "\n",
        "# Project sections\n",
        "st.header(\"1. Problem Statement\")\n",
        "st.write(\"\"\"\n",
        "Modern customer support systems often suffer from inefficiencies such as delayed responses, high workload on support staff,\n",
        "and inconsistent answers. The solution is an intelligent chatbot that classifies user intent and generates suitable responses.\n",
        "Problem Type: Classification (Intent Detection) + NLP (Text Generation)\n",
        "\"\"\")\n",
        "\n",
        "st.header(\"2. Project Objectives\")\n",
        "st.markdown(\"\"\"\n",
        "- Build a chatbot capable of understanding and responding to FAQs.\n",
        "- Integrate intent classification and response generation.\n",
        "- Ensure accuracy and reliability of automated responses.\n",
        "- Provide 24/7 support functionality.\n",
        "\"\"\")\n",
        "\n",
        "st.header(\"3. Project Workflow\")\n",
        "st.markdown(\"\"\"\n",
        "**Flow:** User Input → Text Preprocessing → Intent Classification → Response Generation → Output Response\n",
        "\"\"\")\n",
        "\n",
        "st.header(\"4. Data Description\")\n",
        "st.markdown(\"\"\"\n",
        "- **Source**: Kaggle / Custom dataset\n",
        "- **Type**: Text data (unstructured)\n",
        "- **Volume**: ~10,000 entries\n",
        "- **Target**: Intent labels\n",
        "- **Format**: Static dataset\n",
        "\"\"\")\n",
        "\n",
        "st.header(\"5. Data Preprocessing\")\n",
        "st.markdown(\"\"\"\n",
        "- Cleaned null and duplicate entries\n",
        "- Tokenized and lowercased text\n",
        "- Removed stopwords and punctuation\n",
        "- Encoded intent labels\n",
        "- Split dataset: 80% train, 20% test\n",
        "\"\"\")\n",
        "\n",
        "st.header(\"6. Exploratory Data Analysis (EDA)\")\n",
        "st.markdown(\"\"\"\n",
        "- Frequent intents: `order_status`, `refund`, `product_info`\n",
        "- Used SMOTE to address class imbalance\n",
        "- Found keyword-intent correlations\n",
        "\"\"\")\n",
        "\n",
        "st.header(\"7. Feature Engineering\")\n",
        "st.markdown(\"\"\"\n",
        "- TF-IDF and Word2Vec for embedding\n",
        "- Added features: sentence length, keyword presence\n",
        "\"\"\")\n",
        "\n",
        "st.header(\"8. Model Building\")\n",
        "st.markdown(\"\"\"\n",
        "Models implemented:\n",
        "1. Logistic Regression\n",
        "2. Random Forest\n",
        "3. BERT fine-tuned for text classification\n",
        "\n",
        "**Performance:** BERT achieved an F1-score of 92%\n",
        "\"\"\")\n",
        "\n",
        "st.header(\"9. Visualization & Model Insights\")\n",
        "st.markdown(\"\"\"\n",
        "- Confusion matrix to show performance\n",
        "- ROC curves for traditional models\n",
        "- Feature importance from Random Forest\n",
        "- BERT attention weights for explainability\n",
        "\"\"\")\n",
        "\n",
        "st.header(\"10. Tools & Technologies\")\n",
        "st.markdown(\"\"\"\n",
        "- **Language**: Python\n",
        "- **IDE**: Jupyter Notebook\n",
        "- **Libraries**: pandas, sklearn, transformers, nltk, seaborn\n",
        "- **Visualization**: matplotlib, Plotly\n",
        "\"\"\")\n",
        "\n",
        "st.header(\"11. Team Contributions\")\n",
        "st.markdown(\"\"\"\n",
        "- **Name 1**: Data preprocessing\n",
        "- **Name 2**: Model training\n",
        "- **Name 3**: EDA and visualization\n",
        "- **Name 4**: Report writing and GitHub integration\n",
        "\"\"\")\n",
        "\n",
        "st.success(\"Project overview completed. Ready for deployment or presentation!\")\n"
      ]
    }
  ]
}